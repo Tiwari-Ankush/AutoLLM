{
  "cells": [
    {
      "cell_type": "markdown",
      "metadata": {
        "id": "view-in-github",
        "colab_type": "text"
      },
      "source": [
        "<a href=\"https://colab.research.google.com/github/TiwariBro/AutoLLM/blob/main/examples/quickstart.ipynb\" target=\"_parent\"><img src=\"https://colab.research.google.com/assets/colab-badge.svg\" alt=\"Open In Colab\"/></a>"
      ]
    },
    {
      "cell_type": "markdown",
      "metadata": {
        "id": "lFEMUcZtOeBO"
      },
      "source": [
        "[![Open In Colab](https://colab.research.google.com/assets/colab-badge.svg)](https://colab.research.google.com/github/safevideo/autollm/blob/main/examples/quickstart.ipynb)"
      ]
    },
    {
      "cell_type": "markdown",
      "metadata": {
        "id": "BwYb-3C5OeBW"
      },
      "source": [
        "## 0. Preparation"
      ]
    },
    {
      "cell_type": "markdown",
      "metadata": {
        "id": "yRyKPSFBOeBX"
      },
      "source": [
        "- Install latest version of autollm and some required packages for this tutorial:"
      ]
    },
    {
      "cell_type": "code",
      "execution_count": 1,
      "metadata": {
        "vscode": {
          "languageId": "shellscript"
        },
        "id": "LA1TXk1XOeBY",
        "outputId": "1ff7c045-6481-4b1b-9936-bea184f12e37",
        "colab": {
          "base_uri": "https://localhost:8080/"
        }
      },
      "outputs": [
        {
          "output_type": "stream",
          "name": "stdout",
          "text": [
            "\u001b[2K     \u001b[90m━━━━━━━━━━━━━━━━━━━━━━━━━━━━━━━━━━━━━━━━\u001b[0m \u001b[32m46.6/46.6 kB\u001b[0m \u001b[31m754.3 kB/s\u001b[0m eta \u001b[36m0:00:00\u001b[0m\n",
            "\u001b[2K     \u001b[90m━━━━━━━━━━━━━━━━━━━━━━━━━━━━━━━━━━━━━━━━\u001b[0m \u001b[32m16.6/16.6 MB\u001b[0m \u001b[31m29.5 MB/s\u001b[0m eta \u001b[36m0:00:00\u001b[0m\n",
            "\u001b[2K     \u001b[90m━━━━━━━━━━━━━━━━━━━━━━━━━━━━━━━━━━━━━━━━\u001b[0m \u001b[32m190.6/190.6 kB\u001b[0m \u001b[31m9.8 MB/s\u001b[0m eta \u001b[36m0:00:00\u001b[0m\n",
            "\u001b[2K     \u001b[90m━━━━━━━━━━━━━━━━━━━━━━━━━━━━━━━━━━━━━━━━\u001b[0m \u001b[32m256.4/256.4 kB\u001b[0m \u001b[31m13.1 MB/s\u001b[0m eta \u001b[36m0:00:00\u001b[0m\n",
            "\u001b[2K     \u001b[90m━━━━━━━━━━━━━━━━━━━━━━━━━━━━━━━━━━━━━━━━\u001b[0m \u001b[32m15.8/15.8 MB\u001b[0m \u001b[31m7.9 MB/s\u001b[0m eta \u001b[36m0:00:00\u001b[0m\n",
            "\u001b[2K     \u001b[90m━━━━━━━━━━━━━━━━━━━━━━━━━━━━━━━━━━━━━━━━\u001b[0m \u001b[32m2.4/2.4 MB\u001b[0m \u001b[31m46.3 MB/s\u001b[0m eta \u001b[36m0:00:00\u001b[0m\n",
            "\u001b[2K     \u001b[90m━━━━━━━━━━━━━━━━━━━━━━━━━━━━━━━━━━━━━━━━\u001b[0m \u001b[32m60.3/60.3 kB\u001b[0m \u001b[31m4.7 MB/s\u001b[0m eta \u001b[36m0:00:00\u001b[0m\n",
            "\u001b[2K     \u001b[90m━━━━━━━━━━━━━━━━━━━━━━━━━━━━━━━━━━━━━━━━\u001b[0m \u001b[32m92.0/92.0 kB\u001b[0m \u001b[31m5.9 MB/s\u001b[0m eta \u001b[36m0:00:00\u001b[0m\n",
            "\u001b[2K     \u001b[90m━━━━━━━━━━━━━━━━━━━━━━━━━━━━━━━━━━━━━━━━\u001b[0m \u001b[32m75.9/75.9 kB\u001b[0m \u001b[31m6.7 MB/s\u001b[0m eta \u001b[36m0:00:00\u001b[0m\n",
            "\u001b[2K     \u001b[90m━━━━━━━━━━━━━━━━━━━━━━━━━━━━━━━━━━━━━━━━\u001b[0m \u001b[32m78.4/78.4 kB\u001b[0m \u001b[31m4.3 MB/s\u001b[0m eta \u001b[36m0:00:00\u001b[0m\n",
            "\u001b[2K     \u001b[90m━━━━━━━━━━━━━━━━━━━━━━━━━━━━━━━━━━━━━━━━\u001b[0m \u001b[32m19.2/19.2 MB\u001b[0m \u001b[31m9.4 MB/s\u001b[0m eta \u001b[36m0:00:00\u001b[0m\n",
            "\u001b[2K     \u001b[90m━━━━━━━━━━━━━━━━━━━━━━━━━━━━━━━━━━━━━━━━\u001b[0m \u001b[32m224.7/224.7 kB\u001b[0m \u001b[31m26.4 MB/s\u001b[0m eta \u001b[36m0:00:00\u001b[0m\n",
            "\u001b[2K     \u001b[90m━━━━━━━━━━━━━━━━━━━━━━━━━━━━━━━━━━━━━━━━\u001b[0m \u001b[32m2.0/2.0 MB\u001b[0m \u001b[31m73.4 MB/s\u001b[0m eta \u001b[36m0:00:00\u001b[0m\n",
            "\u001b[2K     \u001b[90m━━━━━━━━━━━━━━━━━━━━━━━━━━━━━━━━━━━━━━━━\u001b[0m \u001b[32m143.0/143.0 kB\u001b[0m \u001b[31m14.5 MB/s\u001b[0m eta \u001b[36m0:00:00\u001b[0m\n",
            "\u001b[?25h  Preparing metadata (setup.py) ... \u001b[?25l\u001b[?25hdone\n",
            "\u001b[2K     \u001b[90m━━━━━━━━━━━━━━━━━━━━━━━━━━━━━━━━━━━━━━━━\u001b[0m \u001b[32m305.1/305.1 kB\u001b[0m \u001b[31m31.8 MB/s\u001b[0m eta \u001b[36m0:00:00\u001b[0m\n",
            "\u001b[2K     \u001b[90m━━━━━━━━━━━━━━━━━━━━━━━━━━━━━━━━━━━━━━━━\u001b[0m \u001b[32m138.7/138.7 kB\u001b[0m \u001b[31m12.0 MB/s\u001b[0m eta \u001b[36m0:00:00\u001b[0m\n",
            "\u001b[2K     \u001b[90m━━━━━━━━━━━━━━━━━━━━━━━━━━━━━━━━━━━━━━━━\u001b[0m \u001b[32m381.9/381.9 kB\u001b[0m \u001b[31m36.8 MB/s\u001b[0m eta \u001b[36m0:00:00\u001b[0m\n",
            "\u001b[2K     \u001b[90m━━━━━━━━━━━━━━━━━━━━━━━━━━━━━━━━━━━━━━━━\u001b[0m \u001b[32m45.7/45.7 kB\u001b[0m \u001b[31m5.6 MB/s\u001b[0m eta \u001b[36m0:00:00\u001b[0m\n",
            "\u001b[2K     \u001b[90m━━━━━━━━━━━━━━━━━━━━━━━━━━━━━━━━━━━━━━━━\u001b[0m \u001b[32m129.9/129.9 kB\u001b[0m \u001b[31m14.5 MB/s\u001b[0m eta \u001b[36m0:00:00\u001b[0m\n",
            "\u001b[2K     \u001b[90m━━━━━━━━━━━━━━━━━━━━━━━━━━━━━━━━━━━━━━━━\u001b[0m \u001b[32m62.7/62.7 kB\u001b[0m \u001b[31m8.7 MB/s\u001b[0m eta \u001b[36m0:00:00\u001b[0m\n",
            "\u001b[2K     \u001b[90m━━━━━━━━━━━━━━━━━━━━━━━━━━━━━━━━━━━━━━━━\u001b[0m \u001b[32m48.0/48.0 kB\u001b[0m \u001b[31m6.1 MB/s\u001b[0m eta \u001b[36m0:00:00\u001b[0m\n",
            "\u001b[2K     \u001b[90m━━━━━━━━━━━━━━━━━━━━━━━━━━━━━━━━━━━━━━━━\u001b[0m \u001b[32m2.1/2.1 MB\u001b[0m \u001b[31m55.4 MB/s\u001b[0m eta \u001b[36m0:00:00\u001b[0m\n",
            "\u001b[2K     \u001b[90m━━━━━━━━━━━━━━━━━━━━━━━━━━━━━━━━━━━━━━━━\u001b[0m \u001b[32m58.3/58.3 kB\u001b[0m \u001b[31m6.9 MB/s\u001b[0m eta \u001b[36m0:00:00\u001b[0m\n",
            "\u001b[2K     \u001b[90m━━━━━━━━━━━━━━━━━━━━━━━━━━━━━━━━━━━━━━━━\u001b[0m \u001b[32m70.0/70.0 kB\u001b[0m \u001b[31m8.2 MB/s\u001b[0m eta \u001b[36m0:00:00\u001b[0m\n",
            "\u001b[2K     \u001b[90m━━━━━━━━━━━━━━━━━━━━━━━━━━━━━━━━━━━━━━━━\u001b[0m \u001b[32m76.9/76.9 kB\u001b[0m \u001b[31m8.5 MB/s\u001b[0m eta \u001b[36m0:00:00\u001b[0m\n",
            "\u001b[2K     \u001b[90m━━━━━━━━━━━━━━━━━━━━━━━━━━━━━━━━━━━━━━━━\u001b[0m \u001b[32m98.7/98.7 kB\u001b[0m \u001b[31m10.6 MB/s\u001b[0m eta \u001b[36m0:00:00\u001b[0m\n",
            "\u001b[2K     \u001b[90m━━━━━━━━━━━━━━━━━━━━━━━━━━━━━━━━━━━━━━━━\u001b[0m \u001b[32m49.4/49.4 kB\u001b[0m \u001b[31m6.5 MB/s\u001b[0m eta \u001b[36m0:00:00\u001b[0m\n",
            "\u001b[?25h  Building wheel for ffmpy (setup.py) ... \u001b[?25l\u001b[?25hdone\n",
            "\u001b[31mERROR: pip's dependency resolver does not currently take into account all the packages that are installed. This behaviour is the source of the following dependency conflicts.\n",
            "lida 0.0.10 requires kaleido, which is not installed.\n",
            "llmx 0.0.15a0 requires cohere, which is not installed.\n",
            "tensorflow-probability 0.22.0 requires typing-extensions<4.6.0, but you have typing-extensions 4.9.0 which is incompatible.\u001b[0m\u001b[31m\n",
            "\u001b[0m"
          ]
        }
      ],
      "source": [
        "!pip install autollm gradio gitpython nbconvert -Uqq"
      ]
    },
    {
      "cell_type": "markdown",
      "metadata": {
        "id": "C-h3Ghl0OeBb"
      },
      "source": [
        "- Import required modules:"
      ]
    },
    {
      "cell_type": "code",
      "execution_count": null,
      "metadata": {
        "id": "Oe6daNypOeBc"
      },
      "outputs": [],
      "source": [
        "# import required functions, classes\n",
        "from autollm import AutoQueryEngine\n",
        "from autollm.utils.document_reading import read_github_repo_as_documents, read_files_as_documents\n",
        "import os\n",
        "import gradio as gr"
      ]
    },
    {
      "cell_type": "markdown",
      "metadata": {
        "id": "2yTZ1UcyOeBd"
      },
      "source": [
        "- Set your OpenAI API key in order to use default gpt-3.5-turbo model:"
      ]
    },
    {
      "cell_type": "code",
      "execution_count": null,
      "metadata": {
        "id": "Msw7ObBUOeBf"
      },
      "outputs": [],
      "source": [
        "os.environ[\"OPENAI_API_KEY\"] = \"YOUR_API_KEY\""
      ]
    },
    {
      "cell_type": "markdown",
      "metadata": {
        "id": "PFAg94ZNOeBg"
      },
      "source": [
        "## 1. Read Files as Documents"
      ]
    },
    {
      "cell_type": "markdown",
      "metadata": {
        "id": "gEtysLv5OeBg"
      },
      "source": [
        "- Reading from a Github repo:"
      ]
    },
    {
      "cell_type": "code",
      "execution_count": null,
      "metadata": {
        "id": "bqjgvsXMOeBh",
        "outputId": "4ad37b75-0064-4adb-9f0b-5bdb2d01bbce"
      },
      "outputs": [
        {
          "name": "stdout",
          "output_type": "stream",
          "text": [
            "Temporary directory created at autollm/temp\n"
          ]
        },
        {
          "name": "stderr",
          "output_type": "stream",
          "text": [
            "INFO:autollm.utils.document_reading:Found 221 'documents'.\n",
            "INFO:autollm.utils.document_reading:Operations complete, deleting temporary directory autollm/temp..\n"
          ]
        }
      ],
      "source": [
        "git_repo_url = \"https://github.com/ultralytics/ultralytics.git\"\n",
        "relative_folder_path = \"docs\"   # relative path from the repo root to the folder containing documents\n",
        "required_exts = [\".md\"]    # optional, only read files with these extensions\n",
        "\n",
        "documents = read_github_repo_as_documents(git_repo_url=git_repo_url, relative_folder_path=relative_folder_path, required_exts=required_exts)"
      ]
    },
    {
      "cell_type": "markdown",
      "metadata": {
        "id": "mOtAY39BOeBi"
      },
      "source": [
        "- Reading from a local folder:"
      ]
    },
    {
      "cell_type": "code",
      "execution_count": null,
      "metadata": {
        "id": "IjxIbWoOOeBj"
      },
      "outputs": [],
      "source": [
        "# required_exts = ...\n",
        "# documents = read_files_as_documents(input_dir=\"your/path/to/documents\", required_exts=required_exts)"
      ]
    },
    {
      "cell_type": "markdown",
      "metadata": {
        "id": "Pwl46P4AOeBj"
      },
      "source": [
        "**Note**: If you want to read specific file types, adjust the `required_exts` parameter. By default, our functions will read all [supported file types](https://github.com/run-llama/llama_index/blob/main/llama_index/readers/file/base.py#L20-L37) from the specified source."
      ]
    },
    {
      "cell_type": "markdown",
      "metadata": {
        "id": "F_eXQq9KOeBk"
      },
      "source": [
        "## 2. Configuration of AutoQueryEngine"
      ]
    },
    {
      "cell_type": "markdown",
      "metadata": {
        "id": "bIxMDka0OeBk"
      },
      "source": [
        "### Basic Usage"
      ]
    },
    {
      "cell_type": "markdown",
      "metadata": {
        "id": "MhlSzpwoOeBk"
      },
      "source": [
        "- You can completely skip configuration(advanced usage) if you want to use default settings."
      ]
    },
    {
      "cell_type": "markdown",
      "metadata": {
        "id": "xtnYaLliOeBl"
      },
      "source": [
        "- 🌟 **pro tip**: autollm defaults to lancedb as the vector store since it is lightweight, scales from development to production and is 100x cheaper than alternatives!"
      ]
    },
    {
      "cell_type": "code",
      "execution_count": null,
      "metadata": {
        "id": "0rfqg6HMOeBl",
        "outputId": "e185801a-a0a2-47d0-beb1-a39a6baa4659"
      },
      "outputs": [
        {
          "name": "stderr",
          "output_type": "stream",
          "text": [
            "Parsing documents into nodes: 100%|██████████| 221/221 [00:01<00:00, 180.70it/s]\n",
            "Generating embeddings: 100%|██████████| 520/520 [00:42<00:00, 12.11it/s]\n"
          ]
        }
      ],
      "source": [
        "query_engine = AutoQueryEngine.from_defaults(documents=documents)"
      ]
    },
    {
      "cell_type": "markdown",
      "metadata": {
        "collapsed": true,
        "id": "pL4ErNFGOeBm"
      },
      "source": [
        "### Advanced Usage"
      ]
    },
    {
      "cell_type": "markdown",
      "metadata": {
        "id": "quyfnDNpOeBm"
      },
      "source": [
        "- You can configure the AutoQueryEngine to your needs:"
      ]
    },
    {
      "cell_type": "code",
      "execution_count": null,
      "metadata": {
        "collapsed": true,
        "id": "OuhUy_MHOeBm"
      },
      "outputs": [],
      "source": [
        "# llm params\n",
        "llm_model = \"gpt-3.5-turbo\"\n",
        "llm_max_tokens = 512\n",
        "llm_temperature = 0.1\n",
        "\n",
        "# service_context_params\n",
        "system_prompt = \"\"\"\n",
        "You are an friendly ai assistant that help users find the most relevant and accurate answers\n",
        "to their questions based on the documents you have access to.\n",
        "When answering the questions, mostly rely on the info in documents.\n",
        "\"\"\"\n",
        "query_wrapper_prompt = '''\n",
        "The document information is below.\n",
        "---------------------\n",
        "{context_str}\n",
        "---------------------\n",
        "Using the document information and mostly relying on it,\n",
        "answer the query.\n",
        "Query: {query_str}\n",
        "Answer:\n",
        "'''\n",
        "enable_cost_calculator = True\n",
        "embed_model = \"default\"  # [\"default\", \"local\"]\n",
        "chunk_size = 512\n",
        "context_window = 4096\n",
        "\n",
        "# vector store params\n",
        "vector_store_type = \"LanceDBVectorStore\"\n",
        "lancedb_uri = \"./.lancedb\"\n",
        "lancedb_table_name = \"vectors\"\n",
        "enable_metadata_extraction = False\n",
        "\n",
        "# query engine params\n",
        "similarity_top_k = 3\n",
        "\n",
        "query_engine = AutoQueryEngine.from_defaults(\n",
        "    documents=documents,\n",
        "    llm_model=llm_model,\n",
        "    llm_max_tokens=llm_max_tokens,\n",
        "    llm_temperature=llm_temperature,\n",
        "    system_prompt=system_prompt,\n",
        "    query_wrapper_prompt=query_wrapper_prompt,\n",
        "    enable_cost_calculator=enable_cost_calculator,\n",
        "    embed_model=embed_model,\n",
        "    chunk_size=chunk_size,\n",
        "    context_window=context_window,\n",
        "    vector_store_type=vector_store_type,\n",
        "    lancedb_uri=lancedb_uri,\n",
        "    lancedb_table_name=lancedb_table_name,\n",
        "    enable_metadata_extraction=enable_metadata_extraction,\n",
        "    similarity_top_k=similarity_top_k\n",
        ")"
      ]
    },
    {
      "cell_type": "markdown",
      "metadata": {
        "id": "RHXp1rTFOeBm"
      },
      "source": [
        "## 3. Ask Anything to Your Documents"
      ]
    },
    {
      "cell_type": "code",
      "execution_count": null,
      "metadata": {
        "id": "W7WppZWwOeBn",
        "outputId": "98b69698-2297-47b9-dbc2-ac82922c62ce"
      },
      "outputs": [
        {
          "name": "stdout",
          "output_type": "stream",
          "text": [
            "LLM Prompt Token Usage: 1415\n",
            "LLM Completion Token Usage: 239\n",
            "LLM Total Token Cost: $0.002601\n"
          ]
        }
      ],
      "source": [
        "response = query_engine.query(\"How to perform tiled inference with SAHI and YOLOv8, include code snippets\")"
      ]
    },
    {
      "cell_type": "code",
      "execution_count": null,
      "metadata": {
        "id": "UhRCuGS7OeBn",
        "outputId": "257fd4c2-6ba4-4ee8-9027-6e6105b88235"
      },
      "outputs": [
        {
          "name": "stdout",
          "output_type": "stream",
          "text": [
            "To perform tiled inference with SAHI and YOLOv8, you can use the `get_sliced_prediction` function provided by SAHI. Here is an example code snippet:\n",
            "\n",
            "```python\n",
            "result = get_sliced_prediction(\n",
            "    \"path/to/image.jpg\",\n",
            "    detection_model,\n",
            "    slice_height=256,\n",
            "    slice_width=256,\n",
            "    overlap_height_ratio=0.2,\n",
            "    overlap_width_ratio=0.2\n",
            ")\n",
            "```\n",
            "\n",
            "In this code snippet, you need to replace `\"path/to/image.jpg\"` with the actual path to your image file. The `detection_model` parameter should be the YOLOv8 model you want to use for object detection.\n",
            "\n",
            "The `slice_height` and `slice_width` parameters determine the dimensions of each slice. The `overlap_height_ratio` and `overlap_width_ratio` parameters specify the overlap ratios between adjacent slices.\n",
            "\n",
            "By running this code, SAHI will perform tiled inference on the image using YOLOv8, and the `result` object will contain the predicted bounding boxes and other information.\n",
            "\n",
            "Please note that you may need to install the necessary dependencies and import the required modules before using this code snippet.\n"
          ]
        }
      ],
      "source": [
        "print(response.response)"
      ]
    },
    {
      "cell_type": "markdown",
      "metadata": {
        "id": "jzY98J23OeBn"
      },
      "source": [
        "- Or play with it in the gradio app 🚀"
      ]
    },
    {
      "cell_type": "code",
      "execution_count": null,
      "metadata": {
        "id": "gYKjBS7oOeBo",
        "outputId": "41a4767a-1d87-44ff-defa-edc5262ff60d"
      },
      "outputs": [
        {
          "name": "stdout",
          "output_type": "stream",
          "text": [
            "Running on local URL:  http://127.0.0.1:7860\n",
            "\n",
            "To create a public link, set `share=True` in `launch()`.\n"
          ]
        },
        {
          "data": {
            "text/html": [
              "<div><iframe src=\"http://127.0.0.1:7860/\" width=\"100%\" height=\"500\" allow=\"autoplay; camera; microphone; clipboard-read; clipboard-write;\" frameborder=\"0\" allowfullscreen></iframe></div>"
            ],
            "text/plain": [
              "<IPython.core.display.HTML object>"
            ]
          },
          "metadata": {},
          "output_type": "display_data"
        },
        {
          "data": {
            "text/plain": []
          },
          "execution_count": 9,
          "metadata": {},
          "output_type": "execute_result"
        }
      ],
      "source": [
        "def greet(query):\n",
        "    return query_engine.query(query).response\n",
        "\n",
        "demo = gr.Interface(fn=greet, inputs=\"text\", outputs=\"text\")\n",
        "\n",
        "demo.launch()"
      ]
    },
    {
      "cell_type": "markdown",
      "metadata": {
        "id": "ScR0dbKvOeBo"
      },
      "source": [
        "### If you found this project useful, [give it a ⭐️ on GitHub](https://github.com/safevideo/autollm) to show your support!"
      ]
    }
  ],
  "metadata": {
    "kernelspec": {
      "display_name": "aidocs",
      "language": "python",
      "name": "python3"
    },
    "language_info": {
      "codemirror_mode": {
        "name": "ipython",
        "version": 3
      },
      "file_extension": ".py",
      "mimetype": "text/x-python",
      "name": "python",
      "nbconvert_exporter": "python",
      "pygments_lexer": "ipython3",
      "version": "3.10.13"
    },
    "colab": {
      "provenance": [],
      "include_colab_link": true
    }
  },
  "nbformat": 4,
  "nbformat_minor": 0
}